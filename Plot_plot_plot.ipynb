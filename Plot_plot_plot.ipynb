{
 "cells": [
  {
   "cell_type": "code",
   "execution_count": 179,
   "id": "bdb110a0",
   "metadata": {},
   "outputs": [],
   "source": [
    "#import the packages\n",
    "\n",
    "import pandas as pd\n",
    "import numpy as np\n",
    "import matplotlib.pyplot as plt\n",
    "import seaborn as sns\n",
    "import plotly.express as px\n"
   ]
  },
  {
   "cell_type": "code",
   "execution_count": 180,
   "id": "c483bf24",
   "metadata": {},
   "outputs": [],
   "source": [
    "#data for employees\n",
    "\n",
    "data = {\n",
    "    \"Employee ID\" : [101, 102, 103, 104, 105, 106, 107, 108, 109, 110, 111, 112, 113, 114, 115, 116],\n",
    "    \"Name\" : [\"Aaron\", \"Brad\", \"Bridgette\", \"Nicole\", \"Clint\", \"Deb\", \"Amber\", \"Drew\", \"Oscar\", \"Terry\", \"Trick\", \"Harold\", \"Joey\", \"Nico\", \"Pickles\", \"Ruby\"],\n",
    "    \"Department\" : [\"Server\", \"Server\", \"Server\", \"Server\", \"Barstaff\", \"Barstaff\", \"FOH\", \"FOH\", \"FOH\", \"FOH\", \"FOH\", \"Kitchen\", \"Kitchen\", \"Kitchen\", \"Kitchen\", \"Kitchen\"],\n",
    "    \"Salary\" : [74000, 91000, 68000, 96000, 97000, 102000, 54000, 63000, 61000, 83000, 78000, 58000, 88000, 64000, 64000, 60000],\n",
    "    \"Gender\" : [\"Male\", \"Male\", \"Female\", \"Female\", \"Male\", \"Female\", \"Female\", \"Male\", \"Male\", \"Male\", \"Male\", \"Male\", \"Male\", \"Male\", \"Male\", \"Female\"],\n",
    "    \"Yrs of Employment\" : [2, 7, 3, 6, 4, 9, 3, 9, 4, 11, 1, 6, 7, 4, 4, 3]\n",
    "}"
   ]
  },
  {
   "cell_type": "code",
   "execution_count": 181,
   "id": "e83aad01",
   "metadata": {},
   "outputs": [
    {
     "data": {
      "text/html": [
       "<div>\n",
       "<style scoped>\n",
       "    .dataframe tbody tr th:only-of-type {\n",
       "        vertical-align: middle;\n",
       "    }\n",
       "\n",
       "    .dataframe tbody tr th {\n",
       "        vertical-align: top;\n",
       "    }\n",
       "\n",
       "    .dataframe thead th {\n",
       "        text-align: right;\n",
       "    }\n",
       "</style>\n",
       "<table border=\"1\" class=\"dataframe\">\n",
       "  <thead>\n",
       "    <tr style=\"text-align: right;\">\n",
       "      <th></th>\n",
       "      <th>Employee ID</th>\n",
       "      <th>Name</th>\n",
       "      <th>Department</th>\n",
       "      <th>Salary</th>\n",
       "      <th>Gender</th>\n",
       "      <th>Yrs of Employment</th>\n",
       "    </tr>\n",
       "  </thead>\n",
       "  <tbody>\n",
       "    <tr>\n",
       "      <th>0</th>\n",
       "      <td>101</td>\n",
       "      <td>Aaron</td>\n",
       "      <td>Server</td>\n",
       "      <td>74000</td>\n",
       "      <td>Male</td>\n",
       "      <td>2</td>\n",
       "    </tr>\n",
       "    <tr>\n",
       "      <th>1</th>\n",
       "      <td>102</td>\n",
       "      <td>Brad</td>\n",
       "      <td>Server</td>\n",
       "      <td>91000</td>\n",
       "      <td>Male</td>\n",
       "      <td>7</td>\n",
       "    </tr>\n",
       "    <tr>\n",
       "      <th>2</th>\n",
       "      <td>103</td>\n",
       "      <td>Bridgette</td>\n",
       "      <td>Server</td>\n",
       "      <td>68000</td>\n",
       "      <td>Female</td>\n",
       "      <td>3</td>\n",
       "    </tr>\n",
       "    <tr>\n",
       "      <th>3</th>\n",
       "      <td>104</td>\n",
       "      <td>Nicole</td>\n",
       "      <td>Server</td>\n",
       "      <td>96000</td>\n",
       "      <td>Female</td>\n",
       "      <td>6</td>\n",
       "    </tr>\n",
       "    <tr>\n",
       "      <th>4</th>\n",
       "      <td>105</td>\n",
       "      <td>Clint</td>\n",
       "      <td>Barstaff</td>\n",
       "      <td>97000</td>\n",
       "      <td>Male</td>\n",
       "      <td>4</td>\n",
       "    </tr>\n",
       "    <tr>\n",
       "      <th>5</th>\n",
       "      <td>106</td>\n",
       "      <td>Deb</td>\n",
       "      <td>Barstaff</td>\n",
       "      <td>102000</td>\n",
       "      <td>Female</td>\n",
       "      <td>9</td>\n",
       "    </tr>\n",
       "    <tr>\n",
       "      <th>6</th>\n",
       "      <td>107</td>\n",
       "      <td>Amber</td>\n",
       "      <td>FOH</td>\n",
       "      <td>54000</td>\n",
       "      <td>Female</td>\n",
       "      <td>3</td>\n",
       "    </tr>\n",
       "    <tr>\n",
       "      <th>7</th>\n",
       "      <td>108</td>\n",
       "      <td>Drew</td>\n",
       "      <td>FOH</td>\n",
       "      <td>63000</td>\n",
       "      <td>Male</td>\n",
       "      <td>9</td>\n",
       "    </tr>\n",
       "    <tr>\n",
       "      <th>8</th>\n",
       "      <td>109</td>\n",
       "      <td>Oscar</td>\n",
       "      <td>FOH</td>\n",
       "      <td>61000</td>\n",
       "      <td>Male</td>\n",
       "      <td>4</td>\n",
       "    </tr>\n",
       "    <tr>\n",
       "      <th>9</th>\n",
       "      <td>110</td>\n",
       "      <td>Terry</td>\n",
       "      <td>FOH</td>\n",
       "      <td>83000</td>\n",
       "      <td>Male</td>\n",
       "      <td>11</td>\n",
       "    </tr>\n",
       "    <tr>\n",
       "      <th>10</th>\n",
       "      <td>111</td>\n",
       "      <td>Trick</td>\n",
       "      <td>FOH</td>\n",
       "      <td>78000</td>\n",
       "      <td>Male</td>\n",
       "      <td>1</td>\n",
       "    </tr>\n",
       "    <tr>\n",
       "      <th>11</th>\n",
       "      <td>112</td>\n",
       "      <td>Harold</td>\n",
       "      <td>Kitchen</td>\n",
       "      <td>58000</td>\n",
       "      <td>Male</td>\n",
       "      <td>6</td>\n",
       "    </tr>\n",
       "    <tr>\n",
       "      <th>12</th>\n",
       "      <td>113</td>\n",
       "      <td>Joey</td>\n",
       "      <td>Kitchen</td>\n",
       "      <td>88000</td>\n",
       "      <td>Male</td>\n",
       "      <td>7</td>\n",
       "    </tr>\n",
       "    <tr>\n",
       "      <th>13</th>\n",
       "      <td>114</td>\n",
       "      <td>Nico</td>\n",
       "      <td>Kitchen</td>\n",
       "      <td>64000</td>\n",
       "      <td>Male</td>\n",
       "      <td>4</td>\n",
       "    </tr>\n",
       "    <tr>\n",
       "      <th>14</th>\n",
       "      <td>115</td>\n",
       "      <td>Pickles</td>\n",
       "      <td>Kitchen</td>\n",
       "      <td>64000</td>\n",
       "      <td>Male</td>\n",
       "      <td>4</td>\n",
       "    </tr>\n",
       "    <tr>\n",
       "      <th>15</th>\n",
       "      <td>116</td>\n",
       "      <td>Ruby</td>\n",
       "      <td>Kitchen</td>\n",
       "      <td>60000</td>\n",
       "      <td>Female</td>\n",
       "      <td>3</td>\n",
       "    </tr>\n",
       "  </tbody>\n",
       "</table>\n",
       "</div>"
      ],
      "text/plain": [
       "    Employee ID       Name Department  Salary  Gender  Yrs of Employment\n",
       "0           101      Aaron     Server   74000    Male                  2\n",
       "1           102       Brad     Server   91000    Male                  7\n",
       "2           103  Bridgette     Server   68000  Female                  3\n",
       "3           104     Nicole     Server   96000  Female                  6\n",
       "4           105      Clint   Barstaff   97000    Male                  4\n",
       "5           106        Deb   Barstaff  102000  Female                  9\n",
       "6           107      Amber        FOH   54000  Female                  3\n",
       "7           108       Drew        FOH   63000    Male                  9\n",
       "8           109      Oscar        FOH   61000    Male                  4\n",
       "9           110      Terry        FOH   83000    Male                 11\n",
       "10          111      Trick        FOH   78000    Male                  1\n",
       "11          112     Harold    Kitchen   58000    Male                  6\n",
       "12          113       Joey    Kitchen   88000    Male                  7\n",
       "13          114       Nico    Kitchen   64000    Male                  4\n",
       "14          115    Pickles    Kitchen   64000    Male                  4\n",
       "15          116       Ruby    Kitchen   60000  Female                  3"
      ]
     },
     "execution_count": 181,
     "metadata": {},
     "output_type": "execute_result"
    }
   ],
   "source": [
    "#create the dataframe\n",
    "\n",
    "df = pd.DataFrame(data)\n",
    "df"
   ]
  },
  {
   "cell_type": "code",
   "execution_count": 182,
   "id": "86078435",
   "metadata": {},
   "outputs": [
    {
     "data": {
      "text/plain": [
       "<Axes: title={'center': 'Salary by Department'}, ylabel='Salary'>"
      ]
     },
     "execution_count": 182,
     "metadata": {},
     "output_type": "execute_result"
    },
    {
     "data": {
      "image/png": "[encoded data removed]",
      "text/plain": [
       "<Figure size 640x480 with 1 Axes>"
      ]
     },
     "metadata": {},
     "output_type": "display_data"
    }
   ],
   "source": [
    "#grouped departments by sum of salary\n",
    "\n",
    "grouped_dept = df.groupby(\"Department\").agg({\"Salary\" : \"sum\"})\n",
    "grouped_dept = grouped_dept.reset_index()\n",
    "grouped_dept\n",
    "\n",
    "#Plot 1 is Pie chart of grouped departments by sum of salary in pandas\n",
    "\n",
    "pie_plot = grouped_dept.plot(kind=\"pie\",\n",
    "                  y=\"Salary\",\n",
    "                  labels=grouped_dept[\"Department\"],\n",
    "                  title=\"Salary by Department\",\n",
    "                  autopct=\"%1.1f%%\",\n",
    "                  legend=False\n",
    "                  )\n",
    "pie_plot"
   ]
  },
  {
   "cell_type": "code",
   "execution_count": 183,
   "id": "0f9aedd1",
   "metadata": {},
   "outputs": [
    {
     "data": {
      "text/plain": [
       "<Axes: title={'center': 'Salary by Employee'}, xlabel='Name of Employee', ylabel='Salary (USD)'>"
      ]
     },
     "execution_count": 183,
     "metadata": {},
     "output_type": "execute_result"
    },
    {
     "data": {
      "image/png": "[encoded data removed]",
      "text/plain": [
       "<Figure size 640x480 with 1 Axes>"
      ]
     },
     "metadata": {},
     "output_type": "display_data"
    }
   ],
   "source": [
    "#Sort employees by salary in decending order\n",
    "\n",
    "decending_salary = df.sort_values(by=\"Salary\", ascending=False)\n",
    "\n",
    "#Plot 2 is Bar chart of all employees salaries in decending order in pandas\n",
    "\n",
    "bar_plot = decending_salary.plot(kind=\"bar\", x=\"Name\", y=\"Salary\", title=\"Salary by Employee\",)\n",
    "bar_plot.set_xlabel(\"Name of Employee\")\n",
    "bar_plot.set_ylabel(\"Salary (USD)\")\n",
    "bar_plot"
   ]
  },
  {
   "cell_type": "code",
   "execution_count": 184,
   "id": "c007f467",
   "metadata": {},
   "outputs": [
    {
     "data": {
      "text/plain": [
       "<Axes: title={'center': 'Years of Employment'}, xlabel='Years of Employment', ylabel='Number of Employees'>"
      ]
     },
     "execution_count": 184,
     "metadata": {},
     "output_type": "execute_result"
    },
    {
     "data": {
      "image/png": "[encoded data removed]",
      "text/plain": [
       "<Figure size 640x480 with 1 Axes>"
      ]
     },
     "metadata": {},
     "output_type": "display_data"
    }
   ],
   "source": [
    "#Plot 3 is Histogram of number of employees per year of employment in pandas\n",
    "\n",
    "hist_plot = df.plot(kind=\"hist\", x=\"Name\", y=\"Yrs of Employment\", title=\"Years of Employment\")\n",
    "hist_plot.set_xticks(range(1, 12))\n",
    "hist_plot.set_xlabel(\"Years of Employment\")\n",
    "hist_plot.set_ylabel(\"Number of Employees\")\n",
    "hist_plot"
   ]
  },
  {
   "cell_type": "code",
   "execution_count": 185,
   "id": "d404b748",
   "metadata": {},
   "outputs": [
    {
     "data": {
      "text/plain": [
       "<Axes: xlabel='Salary', ylabel='Department'>"
      ]
     },
     "execution_count": 185,
     "metadata": {},
     "output_type": "execute_result"
    },
    {
     "data": {
      "image/png": "[encoded data removed]",
      "text/plain": [
       "<Figure size 640x480 with 1 Axes>"
      ]
     },
     "metadata": {},
     "output_type": "display_data"
    }
   ],
   "source": [
    "#Plot 4 is a Box plot showing the distribution of the salary by department in seaborn\n",
    "\n",
    "box_plot = sns.boxplot(x=\"Salary\", y=\"Department\", data=df, width=.5)\n",
    "box_plot"
   ]
  },
  {
   "cell_type": "code",
   "execution_count": 186,
   "id": "e069fe01",
   "metadata": {},
   "outputs": [
    {
     "data": {
      "application/vnd.plotly.v1+json": {
       "config": {
        "plotlyServerURL": "https://plot.ly"
       },
       "data": [
        {
         "customdata": [
          [
           "Server",
           2
          ],
          [
           "Server",
           7
          ],
          [
           "Server",
           3
          ],
          [
           "Server",
           6
          ],
          [
           "Barstaff",
           4
          ],
          [
           "Barstaff",
           9
          ],
          [
           "FOH",
           3
          ],
          [
           "FOH",
           9
          ],
          [
           "FOH",
           4
          ],
          [
           "FOH",
           11
          ],
          [
           "FOH",
           1
          ],
          [
           "Kitchen",
           6
          ],
          [
           "Kitchen",
           7
          ],
          [
           "Kitchen",
           4
          ],
          [
           "Kitchen",
           4
          ],
          [
           "Kitchen",
           3
          ]
         ],
         "hovertemplate": "<b>%{hovertext}</b><br><br>Salary=%{y}<br>Department=%{customdata[0]}<br>Yrs of Employment=%{customdata[1]}<extra></extra>",
         "hovertext": [
          "Aaron",
          "Brad",
          "Bridgette",
          "Nicole",
          "Clint",
          "Deb",
          "Amber",
          "Drew",
          "Oscar",
          "Terry",
          "Trick",
          "Harold",
          "Joey",
          "Nico",
          "Pickles",
          "Ruby"
         ],
         "legendgroup": "",
         "marker": {
          "color": "#636efa",
          "pattern": {
           "shape": ""
          }
         },
         "name": "",
         "orientation": "v",
         "showlegend": false,
         "textposition": "auto",
         "type": "bar",
         "x": [
          "Aaron",
          "Brad",
          "Bridgette",
          "Nicole",
          "Clint",
          "Deb",
          "Amber",
          "Drew",
          "Oscar",
          "Terry",
          "Trick",
          "Harold",
          "Joey",
          "Nico",
          "Pickles",
          "Ruby"
         ],
         "xaxis": "x",
         "y": {
          "bdata": "ECEBAHhjAQCgCQEAAHcBAOh6AQBwjgEA8NIAABj2AABI7gAAOEQBALAwAQCQ4gAAwFcBAAD6AAAA+gAAYOoAAA==",
          "dtype": "i4"
         },
         "yaxis": "y"
        }
       ],
       "layout": {
        "barmode": "relative",
        "hoverlabel": {
         "font": {
          "size": 18
         }
        },
        "legend": {
         "tracegroupgap": 0
        },
        "showlegend": false,
        "template": {
         "data": {
          "bar": [
           {
            "error_x": {
             "color": "#2a3f5f"
            },
            "error_y": {
             "color": "#2a3f5f"
            },
            "marker": {
             "line": {
              "color": "#E5ECF6",
              "width": 0.5
             },
             "pattern": {
              "fillmode": "overlay",
              "size": 10,
              "solidity": 0.2
             }
            },
            "type": "bar"
           }
          ],
          "barpolar": [
           {
            "marker": {
             "line": {
              "color": "#E5ECF6",
              "width": 0.5
             },
             "pattern": {
              "fillmode": "overlay",
              "size": 10,
              "solidity": 0.2
             }
            },
            "type": "barpolar"
           }
          ],
          "carpet": [
           {
            "aaxis": {
             "endlinecolor": "#2a3f5f",
             "gridcolor": "white",
             "linecolor": "white",
             "minorgridcolor": "white",
             "startlinecolor": "#2a3f5f"
            },
            "baxis": {
             "endlinecolor": "#2a3f5f",
             "gridcolor": "white",
             "linecolor": "white",
             "minorgridcolor": "white",
             "startlinecolor": "#2a3f5f"
            },
            "type": "carpet"
           }
          ],
          "choropleth": [
           {
            "colorbar": {
             "outlinewidth": 0,
             "ticks": ""
            },
            "type": "choropleth"
           }
          ],
          "contour": [
           {
            "colorbar": {
             "outlinewidth": 0,
             "ticks": ""
            },
            "colorscale": [
             [
              0,
              "#0d0887"
             ],
             [
              0.1111111111111111,
              "#46039f"
             ],
             [
              0.2222222222222222,
              "#7201a8"
             ],
             [
              0.3333333333333333,
              "#9c179e"
             ],
             [
              0.4444444444444444,
              "#bd3786"
             ],
             [
              0.5555555555555556,
              "#d8576b"
             ],
             [
              0.6666666666666666,
              "#ed7953"
             ],
             [
              0.7777777777777778,
              "#fb9f3a"
             ],
             [
              0.8888888888888888,
              "#fdca26"
             ],
             [
              1,
              "#f0f921"
             ]
            ],
            "type": "contour"
           }
          ],
          "contourcarpet": [
           {
            "colorbar": {
             "outlinewidth": 0,
             "ticks": ""
            },
            "type": "contourcarpet"
           }
          ],
          "heatmap": [
           {
            "colorbar": {
             "outlinewidth": 0,
             "ticks": ""
            },
            "colorscale": [
             [
              0,
              "#0d0887"
             ],
             [
              0.1111111111111111,
              "#46039f"
             ],
             [
              0.2222222222222222,
              "#7201a8"
             ],
             [
              0.3333333333333333,
              "#9c179e"
             ],
             [
              0.4444444444444444,
              "#bd3786"
             ],
             [
              0.5555555555555556,
              "#d8576b"
             ],
             [
              0.6666666666666666,
              "#ed7953"
             ],
             [
              0.7777777777777778,
              "#fb9f3a"
             ],
             [
              0.8888888888888888,
              "#fdca26"
             ],
             [
              1,
              "#f0f921"
             ]
            ],
            "type": "heatmap"
           }
          ],
          "histogram": [
           {
            "marker": {
             "pattern": {
              "fillmode": "overlay",
              "size": 10,
              "solidity": 0.2
             }
            },
            "type": "histogram"
           }
          ],
          "histogram2d": [
           {
            "colorbar": {
             "outlinewidth": 0,
             "ticks": ""
            },
            "colorscale": [
             [
              0,
              "#0d0887"
             ],
             [
              0.1111111111111111,
              "#46039f"
             ],
             [
              0.2222222222222222,
              "#7201a8"
             ],
             [
              0.3333333333333333,
              "#9c179e"
             ],
             [
              0.4444444444444444,
              "#bd3786"
             ],
             [
              0.5555555555555556,
              "#d8576b"
             ],
             [
              0.6666666666666666,
              "#ed7953"
             ],
             [
              0.7777777777777778,
              "#fb9f3a"
             ],
             [
              0.8888888888888888,
              "#fdca26"
             ],
             [
              1,
              "#f0f921"
             ]
            ],
            "type": "histogram2d"
           }
          ],
          "histogram2dcontour": [
           {
            "colorbar": {
             "outlinewidth": 0,
             "ticks": ""
            },
            "colorscale": [
             [
              0,
              "#0d0887"
             ],
             [
              0.1111111111111111,
              "#46039f"
             ],
             [
              0.2222222222222222,
              "#7201a8"
             ],
             [
              0.3333333333333333,
              "#9c179e"
             ],
             [
              0.4444444444444444,
              "#bd3786"
             ],
             [
              0.5555555555555556,
              "#d8576b"
             ],
             [
              0.6666666666666666,
              "#ed7953"
             ],
             [
              0.7777777777777778,
              "#fb9f3a"
             ],
             [
              0.8888888888888888,
              "#fdca26"
             ],
             [
              1,
              "#f0f921"
             ]
            ],
            "type": "histogram2dcontour"
           }
          ],
          "mesh3d": [
           {
            "colorbar": {
             "outlinewidth": 0,
             "ticks": ""
            },
            "type": "mesh3d"
           }
          ],
          "parcoords": [
           {
            "line": {
             "colorbar": {
              "outlinewidth": 0,
              "ticks": ""
             }
            },
            "type": "parcoords"
           }
          ],
          "pie": [
           {
            "automargin": true,
            "type": "pie"
           }
          ],
          "scatter": [
           {
            "fillpattern": {
             "fillmode": "overlay",
             "size": 10,
             "solidity": 0.2
            },
            "type": "scatter"
           }
          ],
          "scatter3d": [
           {
            "line": {
             "colorbar": {
              "outlinewidth": 0,
              "ticks": ""
             }
            },
            "marker": {
             "colorbar": {
              "outlinewidth": 0,
              "ticks": ""
             }
            },
            "type": "scatter3d"
           }
          ],
          "scattercarpet": [
           {
            "marker": {
             "colorbar": {
              "outlinewidth": 0,
              "ticks": ""
             }
            },
            "type": "scattercarpet"
           }
          ],
          "scattergeo": [
           {
            "marker": {
             "colorbar": {
              "outlinewidth": 0,
              "ticks": ""
             }
            },
            "type": "scattergeo"
           }
          ],
          "scattergl": [
           {
            "marker": {
             "colorbar": {
              "outlinewidth": 0,
              "ticks": ""
             }
            },
            "type": "scattergl"
           }
          ],
          "scattermap": [
           {
            "marker": {
             "colorbar": {
              "outlinewidth": 0,
              "ticks": ""
             }
            },
            "type": "scattermap"
           }
          ],
          "scattermapbox": [
           {
            "marker": {
             "colorbar": {
              "outlinewidth": 0,
              "ticks": ""
             }
            },
            "type": "scattermapbox"
           }
          ],
          "scatterpolar": [
           {
            "marker": {
             "colorbar": {
              "outlinewidth": 0,
              "ticks": ""
             }
            },
            "type": "scatterpolar"
           }
          ],
          "scatterpolargl": [
           {
            "marker": {
             "colorbar": {
              "outlinewidth": 0,
              "ticks": ""
             }
            },
            "type": "scatterpolargl"
           }
          ],
          "scatterternary": [
           {
            "marker": {
             "colorbar": {
              "outlinewidth": 0,
              "ticks": ""
             }
            },
            "type": "scatterternary"
           }
          ],
          "surface": [
           {
            "colorbar": {
             "outlinewidth": 0,
             "ticks": ""
            },
            "colorscale": [
             [
              0,
              "#0d0887"
             ],
             [
              0.1111111111111111,
              "#46039f"
             ],
             [
              0.2222222222222222,
              "#7201a8"
             ],
             [
              0.3333333333333333,
              "#9c179e"
             ],
             [
              0.4444444444444444,
              "#bd3786"
             ],
             [
              0.5555555555555556,
              "#d8576b"
             ],
             [
              0.6666666666666666,
              "#ed7953"
             ],
             [
              0.7777777777777778,
              "#fb9f3a"
             ],
             [
              0.8888888888888888,
              "#fdca26"
             ],
             [
              1,
              "#f0f921"
             ]
            ],
            "type": "surface"
           }
          ],
          "table": [
           {
            "cells": {
             "fill": {
              "color": "#EBF0F8"
             },
             "line": {
              "color": "white"
             }
            },
            "header": {
             "fill": {
              "color": "#C8D4E3"
             },
             "line": {
              "color": "white"
             }
            },
            "type": "table"
           }
          ]
         },
         "layout": {
          "annotationdefaults": {
           "arrowcolor": "#2a3f5f",
           "arrowhead": 0,
           "arrowwidth": 1
          },
          "autotypenumbers": "strict",
          "coloraxis": {
           "colorbar": {
            "outlinewidth": 0,
            "ticks": ""
           }
          },
          "colorscale": {
           "diverging": [
            [
             0,
             "#8e0152"
            ],
            [
             0.1,
             "#c51b7d"
            ],
            [
             0.2,
             "#de77ae"
            ],
            [
             0.3,
             "#f1b6da"
            ],
            [
             0.4,
             "#fde0ef"
            ],
            [
             0.5,
             "#f7f7f7"
            ],
            [
             0.6,
             "#e6f5d0"
            ],
            [
             0.7,
             "#b8e186"
            ],
            [
             0.8,
             "#7fbc41"
            ],
            [
             0.9,
             "#4d9221"
            ],
            [
             1,
             "#276419"
            ]
           ],
           "sequential": [
            [
             0,
             "#0d0887"
            ],
            [
             0.1111111111111111,
             "#46039f"
            ],
            [
             0.2222222222222222,
             "#7201a8"
            ],
            [
             0.3333333333333333,
             "#9c179e"
            ],
            [
             0.4444444444444444,
             "#bd3786"
            ],
            [
             0.5555555555555556,
             "#d8576b"
            ],
            [
             0.6666666666666666,
             "#ed7953"
            ],
            [
             0.7777777777777778,
             "#fb9f3a"
            ],
            [
             0.8888888888888888,
             "#fdca26"
            ],
            [
             1,
             "#f0f921"
            ]
           ],
           "sequentialminus": [
            [
             0,
             "#0d0887"
            ],
            [
             0.1111111111111111,
             "#46039f"
            ],
            [
             0.2222222222222222,
             "#7201a8"
            ],
            [
             0.3333333333333333,
             "#9c179e"
            ],
            [
             0.4444444444444444,
             "#bd3786"
            ],
            [
             0.5555555555555556,
             "#d8576b"
            ],
            [
             0.6666666666666666,
             "#ed7953"
            ],
            [
             0.7777777777777778,
             "#fb9f3a"
            ],
            [
             0.8888888888888888,
             "#fdca26"
            ],
            [
             1,
             "#f0f921"
            ]
           ]
          },
          "colorway": [
           "#636efa",
           "#EF553B",
           "#00cc96",
           "#ab63fa",
           "#FFA15A",
           "#19d3f3",
           "#FF6692",
           "#B6E880",
           "#FF97FF",
           "#FECB52"
          ],
          "font": {
           "color": "#2a3f5f"
          },
          "geo": {
           "bgcolor": "white",
           "lakecolor": "white",
           "landcolor": "#E5ECF6",
           "showlakes": true,
           "showland": true,
           "subunitcolor": "white"
          },
          "hoverlabel": {
           "align": "left"
          },
          "hovermode": "closest",
          "mapbox": {
           "style": "light"
          },
          "paper_bgcolor": "white",
          "plot_bgcolor": "#E5ECF6",
          "polar": {
           "angularaxis": {
            "gridcolor": "white",
            "linecolor": "white",
            "ticks": ""
           },
           "bgcolor": "#E5ECF6",
           "radialaxis": {
            "gridcolor": "white",
            "linecolor": "white",
            "ticks": ""
           }
          },
          "scene": {
           "xaxis": {
            "backgroundcolor": "#E5ECF6",
            "gridcolor": "white",
            "gridwidth": 2,
            "linecolor": "white",
            "showbackground": true,
            "ticks": "",
            "zerolinecolor": "white"
           },
           "yaxis": {
            "backgroundcolor": "#E5ECF6",
            "gridcolor": "white",
            "gridwidth": 2,
            "linecolor": "white",
            "showbackground": true,
            "ticks": "",
            "zerolinecolor": "white"
           },
           "zaxis": {
            "backgroundcolor": "#E5ECF6",
            "gridcolor": "white",
            "gridwidth": 2,
            "linecolor": "white",
            "showbackground": true,
            "ticks": "",
            "zerolinecolor": "white"
           }
          },
          "shapedefaults": {
           "line": {
            "color": "#2a3f5f"
           }
          },
          "ternary": {
           "aaxis": {
            "gridcolor": "white",
            "linecolor": "white",
            "ticks": ""
           },
           "baxis": {
            "gridcolor": "white",
            "linecolor": "white",
            "ticks": ""
           },
           "bgcolor": "#E5ECF6",
           "caxis": {
            "gridcolor": "white",
            "linecolor": "white",
            "ticks": ""
           }
          },
          "title": {
           "x": 0.05
          },
          "xaxis": {
           "automargin": true,
           "gridcolor": "white",
           "linecolor": "white",
           "ticks": "",
           "title": {
            "standoff": 15
           },
           "zerolinecolor": "white",
           "zerolinewidth": 2
          },
          "yaxis": {
           "automargin": true,
           "gridcolor": "white",
           "linecolor": "white",
           "ticks": "",
           "title": {
            "standoff": 15
           },
           "zerolinecolor": "white",
           "zerolinewidth": 2
          }
         }
        },
        "title": {
         "text": "Salary by Employee (hover for more info)"
        },
        "xaxis": {
         "anchor": "y",
         "domain": [
          0,
          1
         ],
         "tickangle": -35,
         "title": {
          "text": "Employee Name"
         }
        },
        "yaxis": {
         "anchor": "x",
         "domain": [
          0,
          1
         ],
         "title": {
          "text": "Salary (USD)"
         }
        }
       }
      }
     },
     "metadata": {},
     "output_type": "display_data"
    }
   ],
   "source": [
    "#Plot 5 is a bar chart of the salary of each employee with hover data showing the salary, department, and years of experience in plotly\n",
    "\n",
    "#create the plot\n",
    "\n",
    "fig = px.bar(df,\n",
    "             x=\"Name\",\n",
    "             y=\"Salary\",\n",
    "             hover_name=\"Name\",\n",
    "             hover_data={\"Name\": False, \"Department\": True, \"Yrs of Employment\": True, \"Salary\": True},\n",
    "             title=\"Salary by Employee (hover for more info)\")\n",
    "\n",
    "#update layout of plot\n",
    "\n",
    "fig.update_layout(\n",
    "    xaxis_title=\"Employee Name\",\n",
    "    yaxis_title=\"Salary (USD)\",\n",
    "    xaxis_tickangle=-35,\n",
    "    hoverlabel=dict(font_size=18),\n",
    "    showlegend=False\n",
    ")\n",
    "\n",
    "#show plot\n",
    "\n",
    "fig.show()"
   ]
  },
  {
   "cell_type": "code",
   "execution_count": 187,
   "id": "dec75673",
   "metadata": {},
   "outputs": [
    {
     "data": {
      "image/png": "[encoded data removed]",
      "text/plain": [
       "<Figure size 640x480 with 1 Axes>"
      ]
     },
     "metadata": {},
     "output_type": "display_data"
    }
   ],
   "source": [
    "#grouped departments by sum of salary\n",
    "\n",
    "grouped_dept_mean = df.groupby(\"Department\").agg({\"Salary\" : \"mean\"})\n",
    "grouped_dept_mean = grouped_dept_mean.reset_index()\n",
    "grouped_dept_mean\n",
    "\n",
    "\n",
    "#creatiing the lables for the chart\n",
    "\n",
    "labels = grouped_dept_mean[\"Department\"]\n",
    "sizes = grouped_dept_mean[\"Salary\"]\n",
    "colors = [\"#f5f921\", \"#21f9e5\", \"#f9a121\", \"#ae89fa\"]\n",
    "explode = (0.1, 0, 0, 0)\n",
    "\n",
    "\n",
    "#Plot 6 is Pie chart of Average Salary per Employee by Department in matplotlib\n",
    "\n",
    "plt.Figure(figsize=(4, 4))\n",
    "plt.pie(sizes, labels=labels, autopct=lambda x: '{:.0f}'.format(x/100*sum(grouped_dept_mean[\"Salary\"])), colors=colors, startangle=360, explode=explode)\n",
    "plt.title(\"Average Salary per Employee by Department\")\n",
    "plt.show()"
   ]
  },
  {
   "cell_type": "code",
   "execution_count": 188,
   "id": "78647ad0",
   "metadata": {},
   "outputs": [
    {
     "data": {
      "image/png": "[encoded data removed]",
      "text/plain": [
       "<Figure size 640x480 with 1 Axes>"
      ]
     },
     "metadata": {},
     "output_type": "display_data"
    }
   ],
   "source": [
    "grouped_dept_yrs = df.groupby(\"Department\").agg({\"Yrs of Employment\" : \"mean\"})\n",
    "grouped_dept_yrs = grouped_dept_yrs.reset_index()\n",
    "grouped_dept_yrs\n",
    "\n",
    "\n",
    "#creatiing the lables for the chart\n",
    "\n",
    "labels = grouped_dept_yrs[\"Department\"]\n",
    "sizes = grouped_dept_yrs[\"Yrs of Employment\"]\n",
    "colors = [\"#f5f921\", \"#21f9e5\", \"#f9a121\", \"#ae89fa\"]\n",
    "explode = (0.1, 0, 0, 0)\n",
    "\n",
    "\n",
    "#Plot 7 is Pie chart of Average Years of Employment by Department in matplotlib\n",
    "\n",
    "plt.Figure(figsize=(4, 4))\n",
    "plt.pie(sizes, labels=labels, autopct=lambda x: '{:.2f}'.format(x/100*sum(grouped_dept_yrs[\"Yrs of Employment\"])), colors=colors, startangle=360, explode=explode)\n",
    "plt.title(\"Average Years of Employment by Department\")\n",
    "plt.show()"
   ]
  }
 ],
 "metadata": {
  "kernelspec": {
   "display_name": "Python 3",
   "language": "python",
   "name": "python3"
  },
  "language_info": {
   "codemirror_mode": {
    "name": "ipython",
    "version": 3
   },
   "file_extension": ".py",
   "mimetype": "text/x-python",
   "name": "python",
   "nbconvert_exporter": "python",
   "pygments_lexer": "ipython3",
   "version": "3.13.3"
  }
 },
 "nbformat": 4,
 "nbformat_minor": 5
}
